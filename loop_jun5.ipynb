{
 "cells": [
  {
   "cell_type": "markdown",
   "id": "3a33c68a-479e-4feb-a8a6-bd4153f4f687",
   "metadata": {},
   "source": [
    "# Loops"
   ]
  },
  {
   "cell_type": "markdown",
   "id": "d5c1eb29-f0b3-4943-a8df-46123cb83e92",
   "metadata": {},
   "source": [
    "## (1)while loop\n",
    "## (2)for loop\n",
    "## (3)nested loop\n",
    "## (4)loop control statements"
   ]
  },
  {
   "cell_type": "markdown",
   "id": "51d6069c-60d8-40c8-b3b0-722742e91151",
   "metadata": {},
   "source": [
    "## (1)While loop\n",
    "### syntax:\n",
    "#### while condition:                           #compulsory\n",
    "####    statement_1\n",
    "####    statement_2\n",
    "#### else:                                     #optional\n",
    "####    statements"
   ]
  },
  {
   "cell_type": "markdown",
   "id": "8a15637f-48bc-4eae-8cab-8bba71d69338",
   "metadata": {},
   "source": [
    "## Example_1=printing name 15 times"
   ]
  },
  {
   "cell_type": "code",
   "execution_count": 4,
   "id": "47e1aad2-61a5-43bf-b239-429d7501db75",
   "metadata": {},
   "outputs": [
    {
     "name": "stdout",
     "output_type": "stream",
     "text": [
      "sanika sanika sanika sanika sanika sanika sanika sanika sanika sanika sanika sanika sanika sanika sanika "
     ]
    }
   ],
   "source": [
    "#printing name 15times\n",
    "count =1\n",
    "while count<=15:\n",
    "    print('sanika',end=' ')\n",
    "    count=count+1"
   ]
  },
  {
   "cell_type": "code",
   "execution_count": 3,
   "id": "93e36871-9d6a-45c1-9753-a5dab8e0bfb9",
   "metadata": {},
   "outputs": [
    {
     "data": {
      "text/plain": [
       "16"
      ]
     },
     "execution_count": 3,
     "metadata": {},
     "output_type": "execute_result"
    }
   ],
   "source": [
    "count"
   ]
  },
  {
   "cell_type": "markdown",
   "id": "ec98e195-6a55-4491-a0e0-56ba7006ef88",
   "metadata": {},
   "source": [
    "## Example_2=printing 1 to 5"
   ]
  },
  {
   "cell_type": "code",
   "execution_count": 5,
   "id": "25ebcd09-cd70-4e99-8547-68aeec9445d8",
   "metadata": {},
   "outputs": [
    {
     "name": "stdout",
     "output_type": "stream",
     "text": [
      "1\n",
      "2\n",
      "3\n",
      "4\n",
      "5\n"
     ]
    }
   ],
   "source": [
    "#print 1 to 5\n",
    "i=1\n",
    "while i<=5:\n",
    "     print(i)\n",
    "     i=i+1\n"
   ]
  },
  {
   "cell_type": "markdown",
   "id": "a9d8978a-c36f-4ce1-ba8c-870cf9095bfe",
   "metadata": {},
   "source": [
    "## Example_3=print odd no"
   ]
  },
  {
   "cell_type": "code",
   "execution_count": 5,
   "id": "f6c4deaa-8547-4597-9c15-5fd4790016b7",
   "metadata": {},
   "outputs": [
    {
     "name": "stdout",
     "output_type": "stream",
     "text": [
      "1\n",
      "3\n",
      "5\n",
      "7\n",
      "9\n",
      "11\n",
      "13\n",
      "15\n",
      "17\n",
      "19\n"
     ]
    }
   ],
   "source": [
    "#end excep sequence seperator\n",
    "i=1\n",
    "while i<=20:\n",
    "    print(i)\n",
    "    i=i+2\n",
    "   "
   ]
  },
  {
   "cell_type": "markdown",
   "id": "0b2b254a-df3a-4339-a00d-b14e64b6e3f2",
   "metadata": {},
   "source": [
    "## Example_4=Addition of first 10 numbers"
   ]
  },
  {
   "cell_type": "code",
   "execution_count": 7,
   "id": "8068c9e9-483d-4189-b591-accc4152fef4",
   "metadata": {},
   "outputs": [
    {
     "name": "stdout",
     "output_type": "stream",
     "text": [
      "55\n"
     ]
    }
   ],
   "source": [
    "#addition of all\n",
    "i=1\n",
    "sum=0\n",
    "while i<=10:\n",
    "    sum=sum+i\n",
    "    i=i+1\n",
    "print(sum)"
   ]
  },
  {
   "cell_type": "markdown",
   "id": "6259e46e-4bd5-4b2f-af9f-3bf02b8298e8",
   "metadata": {},
   "source": [
    "## Example_5=Addition of all odd from 1 to 20"
   ]
  },
  {
   "cell_type": "code",
   "execution_count": 8,
   "id": "43f8da6f-8e3b-48fb-ad6b-296a4c25ba69",
   "metadata": {},
   "outputs": [
    {
     "name": "stdout",
     "output_type": "stream",
     "text": [
      "100\n"
     ]
    }
   ],
   "source": [
    "#addition of all odd from 1 t0 20\n",
    "i=1\n",
    "sum=0\n",
    "while i<=20:\n",
    "    \n",
    "    sum=sum+i\n",
    "    i=i+2\n",
    "print(sum)"
   ]
  },
  {
   "cell_type": "markdown",
   "id": "1193a4e9-d96b-460a-988c-05244566bb95",
   "metadata": {},
   "source": [
    "## Example_6=factorial of 5"
   ]
  },
  {
   "cell_type": "code",
   "execution_count": 9,
   "id": "9f0f04c3-9748-4c44-82e5-c4a0ab1051e6",
   "metadata": {},
   "outputs": [
    {
     "name": "stdout",
     "output_type": "stream",
     "text": [
      "120\n"
     ]
    }
   ],
   "source": [
    "#factorial of 5\n",
    "i=1\n",
    "fact=1\n",
    "while i<=5:\n",
    "    fact=fact*i\n",
    "    i=i+1\n",
    "print(fact)"
   ]
  },
  {
   "cell_type": "markdown",
   "id": "6e623800-3bd2-40eb-be31-ea847151678b",
   "metadata": {},
   "source": [
    "## Example_7=find factorial of a number take user input."
   ]
  },
  {
   "cell_type": "code",
   "execution_count": 11,
   "id": "ee43be69-973a-4a6c-875c-8fe634007810",
   "metadata": {},
   "outputs": [
    {
     "name": "stdin",
     "output_type": "stream",
     "text": [
      "enter no for calculating factorial= 5\n"
     ]
    },
    {
     "name": "stdout",
     "output_type": "stream",
     "text": [
      "120\n"
     ]
    }
   ],
   "source": [
    "#factorial of 5\n",
    "i=int(input('enter no for calculating factorial='))\n",
    "fact=1\n",
    "while i>=1:\n",
    "    fact=fact*i\n",
    "    i=i-1\n",
    "print(fact)"
   ]
  },
  {
   "cell_type": "markdown",
   "id": "e373f00d-ef1d-4ab2-921c-65cde806cad2",
   "metadata": {},
   "source": [
    "## Example_8=find addition of all the digit of a number"
   ]
  },
  {
   "cell_type": "code",
   "execution_count": 14,
   "id": "5b4d4435-a184-4beb-8ca4-0ba888973ceb",
   "metadata": {},
   "outputs": [
    {
     "name": "stdin",
     "output_type": "stream",
     "text": [
      "enter no for calculating factorial= 54321\n"
     ]
    },
    {
     "name": "stdout",
     "output_type": "stream",
     "text": [
      "15\n"
     ]
    }
   ],
   "source": [
    "# find addition of all the digit of a no\n",
    "num=int(input('enter no for calculating factorial='))\n",
    "sum=0\n",
    "while num>0:\n",
    "    dig=num%10\n",
    "    sum=sum+dig\n",
    "    num=num//10\n",
    "print(sum)"
   ]
  },
  {
   "cell_type": "markdown",
   "id": "dbf75b74-0ea5-457e-9833-9d9e8837993b",
   "metadata": {},
   "source": [
    "# more about while loop\n",
    "### an infinite loop\n",
    "### the else statement for while loop\n",
    "### single statement while\n",
    "### example="
   ]
  },
  {
   "cell_type": "code",
   "execution_count": null,
   "id": "ba4d2bcd-3394-454a-abe5-22194a2823d1",
   "metadata": {},
   "outputs": [],
   "source": [
    "#infinite loop\n",
    "'''\n",
    "  count=1\n",
    "  while count<=15:          ( while true:)\n",
    "    print('a')\n",
    "'''"
   ]
  },
  {
   "cell_type": "code",
   "execution_count": 1,
   "id": "34a8a38b-5729-49a6-ab86-2d49fc525d2e",
   "metadata": {},
   "outputs": [
    {
     "name": "stdin",
     "output_type": "stream",
     "text": [
      "enter no for calculating factorial= 5\n"
     ]
    },
    {
     "name": "stdout",
     "output_type": "stream",
     "text": [
      "120\n"
     ]
    }
   ],
   "source": [
    "#else\n",
    "#factorial of 5\n",
    "i=int(input('enter no for calculating factorial='))\n",
    "fact=1\n",
    "while i>=1:\n",
    "    fact=fact*i\n",
    "    i=i-1\n",
    "else:\n",
    "    print(fact)"
   ]
  },
  {
   "cell_type": "code",
   "execution_count": 2,
   "id": "8f97bea8-6ad8-44ed-9a61-d6b06af32e30",
   "metadata": {},
   "outputs": [
    {
     "name": "stdout",
     "output_type": "stream",
     "text": [
      "0\n",
      "1\n",
      "2\n",
      "3\n",
      "4\n",
      "5\n",
      "6\n",
      "7\n",
      "8\n",
      "9\n"
     ]
    }
   ],
   "source": [
    "# single statement while\n",
    "num=0\n",
    "while num<10:print(num);num+=1"
   ]
  },
  {
   "cell_type": "markdown",
   "id": "cda4ce98-55c8-4e0c-b50b-2e57f063c1d2",
   "metadata": {},
   "source": [
    "# (2)For loop\n",
    "### iterate over a sequence or collection of items\n",
    "### for loop uses in keyword in python\n",
    "## Syntax=\n",
    "## for n in sequence:          \n",
    "##      statements\n",
    " #n:variable    #sequence:collection of elements"
   ]
  },
  {
   "cell_type": "markdown",
   "id": "0d234b8e-51f9-4cd1-a794-e712242befcb",
   "metadata": {},
   "source": [
    "# while vs for loop"
   ]
  },
  {
   "cell_type": "markdown",
   "id": "c40550d2-6540-4e7c-9417-5e7740f1e052",
   "metadata": {},
   "source": [
    "## while loop\n",
    "#### (1)can have condition for iteration\n",
    "#### (2)the counter can be increamented or decreamented by any number\n",
    "#### (3)the loop is infinite\n",
    "## for loop\n",
    "#### (1)Dont have any loop condition for iteration\n",
    "#### (2)the loop iterate through sequence by one increament only\n",
    "#### (3)the loop cant be infinite"
   ]
  },
  {
   "cell_type": "markdown",
   "id": "ba8d44e8-64ae-4304-b902-945ecb19ab0e",
   "metadata": {},
   "source": [
    "### same sequence"
   ]
  },
  {
   "cell_type": "code",
   "execution_count": 15,
   "id": "930e839c-fb61-4bfa-9eb6-77dd8178cb78",
   "metadata": {},
   "outputs": [
    {
     "name": "stdout",
     "output_type": "stream",
     "text": [
      "10\n",
      "20\n",
      "30\n",
      "40\n",
      "50\n"
     ]
    }
   ],
   "source": [
    "#for loop\n",
    "for n in 10,20,30,40,50:\n",
    "    print(n)"
   ]
  },
  {
   "cell_type": "markdown",
   "id": "0a4fe927-176b-4e29-9565-84e5aa0b7c99",
   "metadata": {},
   "source": [
    "## operation on sequence"
   ]
  },
  {
   "cell_type": "code",
   "execution_count": 1,
   "id": "f98e6d06-fb38-482c-9db0-e833e54cbbc4",
   "metadata": {},
   "outputs": [
    {
     "name": "stdout",
     "output_type": "stream",
     "text": [
      "5.0\n",
      "10.0\n",
      "15.0\n",
      "20.0\n",
      "25.0\n"
     ]
    }
   ],
   "source": [
    "#\n",
    "for n in 10,20,30,40,50:\n",
    "    print(n/2)"
   ]
  },
  {
   "cell_type": "markdown",
   "id": "be88e58b-0837-40c2-9b3a-8388aad149a5",
   "metadata": {},
   "source": [
    "## mixed sequence"
   ]
  },
  {
   "cell_type": "code",
   "execution_count": 2,
   "id": "08a81d7d-f308-447f-8eea-5b0f3124571a",
   "metadata": {},
   "outputs": [
    {
     "name": "stdout",
     "output_type": "stream",
     "text": [
      "10\n",
      "20\n",
      "30\n",
      "40\n",
      "50\n",
      "45.899\n",
      "sanika\n"
     ]
    }
   ],
   "source": [
    "for n in 10,20,30,40,50,45.899,'sanika':\n",
    "    print(n)"
   ]
  },
  {
   "cell_type": "markdown",
   "id": "7b9e5afa-3876-49f9-83d0-e147f0f38137",
   "metadata": {
    "jp-MarkdownHeadingCollapsed": true
   },
   "source": [
    "# more about for loop\n",
    "### the range() function\n",
    "### iterating on list or similar constructs\n",
    "### iterating on indices of a list or a similar construct\n",
    "### the else statement for for loop"
   ]
  },
  {
   "cell_type": "markdown",
   "id": "db4f05f6-b9a1-4550-8719-c20e4131f0e4",
   "metadata": {},
   "source": [
    "## (1)range function\n",
    "### Syntax=\n",
    "# range(start,end+1,step)\n",
    "#create a sequence from start to end increament/decreaments by step"
   ]
  },
  {
   "cell_type": "code",
   "execution_count": 3,
   "id": "d9fad276-7e93-4407-bc70-582b0348968a",
   "metadata": {},
   "outputs": [
    {
     "data": {
      "text/plain": [
       "[0, 1, 2, 3, 4, 5, 6, 7, 8, 9]"
      ]
     },
     "execution_count": 3,
     "metadata": {},
     "output_type": "execute_result"
    }
   ],
   "source": [
    "list(range(10))"
   ]
  },
  {
   "cell_type": "code",
   "execution_count": 4,
   "id": "cbd6dc88-9f60-46f4-854d-9ba6f854fe01",
   "metadata": {},
   "outputs": [
    {
     "data": {
      "text/plain": [
       "[5, 6, 7, 8, 9, 10, 11, 12, 13, 14, 15]"
      ]
     },
     "execution_count": 4,
     "metadata": {},
     "output_type": "execute_result"
    }
   ],
   "source": [
    "list(range(5,16))"
   ]
  },
  {
   "cell_type": "markdown",
   "id": "1a958d21-dfb2-41d8-8e62-b14ce1556b97",
   "metadata": {},
   "source": [
    "### increament range()  function"
   ]
  },
  {
   "cell_type": "code",
   "execution_count": 4,
   "id": "7b9af4bc-551a-4b03-9758-21f7b40f1027",
   "metadata": {},
   "outputs": [
    {
     "data": {
      "text/plain": [
       "[5, 7, 9, 11, 13, 15]"
      ]
     },
     "execution_count": 4,
     "metadata": {},
     "output_type": "execute_result"
    }
   ],
   "source": [
    "list(range(5,16,2))          #step(+)"
   ]
  },
  {
   "cell_type": "markdown",
   "id": "d7cea0bb-89a9-4906-b8fe-aeb43c179e70",
   "metadata": {},
   "source": [
    "### decreament range()  function"
   ]
  },
  {
   "cell_type": "code",
   "execution_count": 6,
   "id": "5fe68053-5648-44d6-8432-911d84113caf",
   "metadata": {},
   "outputs": [
    {
     "data": {
      "text/plain": [
       "[23,\n",
       " 22,\n",
       " 21,\n",
       " 20,\n",
       " 19,\n",
       " 18,\n",
       " 17,\n",
       " 16,\n",
       " 15,\n",
       " 14,\n",
       " 13,\n",
       " 12,\n",
       " 11,\n",
       " 10,\n",
       " 9,\n",
       " 8,\n",
       " 7,\n",
       " 6,\n",
       " 5,\n",
       " 4,\n",
       " 3,\n",
       " 2]"
      ]
     },
     "execution_count": 6,
     "metadata": {},
     "output_type": "execute_result"
    }
   ],
   "source": [
    "list(range(23,1,-1))          #step(-)"
   ]
  },
  {
   "cell_type": "code",
   "execution_count": 10,
   "id": "3a2a2865-b11b-49de-9bc6-99aaa11ba0c7",
   "metadata": {},
   "outputs": [
    {
     "name": "stdout",
     "output_type": "stream",
     "text": [
      "100\n"
     ]
    }
   ],
   "source": [
    "#add odd numbers upto 20\n",
    "sum=0\n",
    "for n in range(1,21,2):\n",
    "    sum=sum+n\n",
    "print(sum)  "
   ]
  },
  {
   "cell_type": "markdown",
   "id": "dfcc80a6-6549-461b-9614-2a897c03d1f8",
   "metadata": {},
   "source": [
    "### (2)iterating on list or similar constructs"
   ]
  },
  {
   "cell_type": "code",
   "execution_count": 11,
   "id": "d976c5b9-ce1f-4af5-876b-a19f29ac3186",
   "metadata": {},
   "outputs": [
    {
     "name": "stdout",
     "output_type": "stream",
     "text": [
      "s\n",
      "a\n",
      "n\n",
      "i\n",
      "k\n",
      "a\n"
     ]
    }
   ],
   "source": [
    "#iterating on string\n",
    "for n in 'sanika':\n",
    "    print(n)  "
   ]
  },
  {
   "cell_type": "code",
   "execution_count": 12,
   "id": "c6b5842b-c448-4752-81dd-8951a950687d",
   "metadata": {},
   "outputs": [
    {
     "name": "stdout",
     "output_type": "stream",
     "text": [
      "sanika\n",
      "jfj\n"
     ]
    }
   ],
   "source": [
    "#iterating on sequences of string\n",
    "for n in 'sanika','jfj':\n",
    "    print(n)  "
   ]
  },
  {
   "cell_type": "markdown",
   "id": "7082fe81-7603-40a6-8283-f593c4ce6c03",
   "metadata": {},
   "source": [
    "### (3)iterating on indices of a list or a similar construct"
   ]
  },
  {
   "cell_type": "code",
   "execution_count": 5,
   "id": "fa6691f3-733b-4ef7-a1de-46048ad2ac32",
   "metadata": {},
   "outputs": [
    {
     "name": "stdout",
     "output_type": "stream",
     "text": [
      "10\n",
      "20.45\n",
      "sanika\n"
     ]
    }
   ],
   "source": [
    "#iterating on list\n",
    "l1=[10,20.45,'sanika']\n",
    "for i in l1:\n",
    "    print(i)"
   ]
  },
  {
   "cell_type": "markdown",
   "id": "8f1edce6-a039-424e-b3a4-7faabbca49d3",
   "metadata": {},
   "source": [
    "### (4)the else statement for for loop"
   ]
  },
  {
   "cell_type": "code",
   "execution_count": 6,
   "id": "551fcfa0-ad9c-4398-acf9-035037630459",
   "metadata": {},
   "outputs": [
    {
     "name": "stdout",
     "output_type": "stream",
     "text": [
      "55\n"
     ]
    }
   ],
   "source": [
    "sum=0\n",
    "for i in range(1,11,1):\n",
    "    sum+=i\n",
    "else:\n",
    "    print(sum)"
   ]
  },
  {
   "cell_type": "markdown",
   "id": "447e49ae-4bea-4e5e-8fd2-0e740bb59488",
   "metadata": {},
   "source": [
    "## Example_1=printing sanika 10 times "
   ]
  },
  {
   "cell_type": "code",
   "execution_count": 8,
   "id": "7a2be590-bfa3-40f7-84b2-ff4135fc15af",
   "metadata": {},
   "outputs": [
    {
     "name": "stdout",
     "output_type": "stream",
     "text": [
      "sanika sanika sanika sanika sanika sanika sanika sanika sanika sanika "
     ]
    }
   ],
   "source": [
    " for n in range(10):\n",
    "    print('sanika',end=' ')"
   ]
  },
  {
   "cell_type": "markdown",
   "id": "95871d4c-ba91-4089-a34b-7db6fd53129b",
   "metadata": {},
   "source": [
    "## Example_2=finding squear of first 5 numbers"
   ]
  },
  {
   "cell_type": "code",
   "execution_count": 7,
   "id": "e5f1abae-aeec-4f49-b330-f32fc3679887",
   "metadata": {},
   "outputs": [
    {
     "name": "stdout",
     "output_type": "stream",
     "text": [
      "1\n",
      "1\n",
      "4\n",
      "27\n",
      "256\n",
      "3125\n"
     ]
    }
   ],
   "source": [
    "for n in range(6):\n",
    "    print(n**n)"
   ]
  },
  {
   "cell_type": "markdown",
   "id": "22b41526-964a-44e1-9a7f-e4981d042257",
   "metadata": {},
   "source": [
    "## Example_3=sum up to 10"
   ]
  },
  {
   "cell_type": "code",
   "execution_count": null,
   "id": "4c62c3af-8d94-4a0f-927a-9af10aa5a475",
   "metadata": {},
   "outputs": [],
   "source": [
    "sum=0\n",
    "for n in range(11):\n",
    "    sum=sum+n\n",
    "print(sum) "
   ]
  },
  {
   "cell_type": "markdown",
   "id": "c4f32fdf-4631-4cf3-8c0c-f7ea06333be5",
   "metadata": {},
   "source": [
    "## Example_4=add odd numbers upto 20"
   ]
  },
  {
   "cell_type": "code",
   "execution_count": null,
   "id": "dbdcacfe-ef61-4c46-ba05-2d828afd7654",
   "metadata": {},
   "outputs": [],
   "source": [
    "sum=0\n",
    "for n in range(1,21,2):\n",
    "    sum=sum+n\n",
    "print(sum)  "
   ]
  },
  {
   "cell_type": "markdown",
   "id": "33c52cb8-48de-4746-8a59-adf4dc6ba42b",
   "metadata": {},
   "source": [
    "## Example_5=find factorial of number"
   ]
  },
  {
   "cell_type": "code",
   "execution_count": 14,
   "id": "6347913d-7b48-4ad6-bd7e-ebbbc49518f5",
   "metadata": {},
   "outputs": [
    {
     "name": "stdin",
     "output_type": "stream",
     "text": [
      "enter no= 5\n"
     ]
    },
    {
     "name": "stdout",
     "output_type": "stream",
     "text": [
      "120\n"
     ]
    }
   ],
   "source": [
    "# find factorial of number\n",
    "no=int(input('enter no='))\n",
    "fact=1\n",
    "for n in range(no,1,-1):\n",
    "    fact=fact*n\n",
    "    \n",
    "print(fact)"
   ]
  },
  {
   "cell_type": "code",
   "execution_count": 15,
   "id": "1f64f429-8588-4b95-8780-f2abf75961de",
   "metadata": {},
   "outputs": [
    {
     "name": "stdout",
     "output_type": "stream",
     "text": [
      "1\n",
      "2\n",
      "3\n",
      "4\n"
     ]
    }
   ],
   "source": [
    "##### break\n",
    "for n in range(1,11):\n",
    "    if n==5:\n",
    "        break\n",
    "    print(n)"
   ]
  },
  {
   "cell_type": "markdown",
   "id": "e18aaa8c-1043-485b-8f8f-fea98d759893",
   "metadata": {},
   "source": [
    "# (3)Nesting of loops"
   ]
  },
  {
   "cell_type": "code",
   "execution_count": 15,
   "id": "fd01bca4-f5ec-4a34-a96f-605c1d16057d",
   "metadata": {},
   "outputs": [
    {
     "name": "stdin",
     "output_type": "stream",
     "text": [
      "enter no of rows= 5\n"
     ]
    },
    {
     "name": "stdout",
     "output_type": "stream",
     "text": [
      "* \n",
      "* * \n",
      "* * * \n",
      "* * * * \n",
      "* * * * * \n"
     ]
    }
   ],
   "source": [
    "rows=int(input('enter no of rows='))\n",
    "for i in range(1,rows+1):\n",
    "    for j in range(i):\n",
    "        print('*',end=' ')\n",
    "    print()"
   ]
  },
  {
   "cell_type": "markdown",
   "id": "71820505-3909-4187-aa50-6fa6e6680b3f",
   "metadata": {},
   "source": [
    "\n",
    "# loop control statements\n",
    "## (1) break\n",
    "## (2) continue\n",
    "## (3) pass"
   ]
  },
  {
   "cell_type": "markdown",
   "id": "38c50bdb-3a92-40e5-9ddc-2474538c3321",
   "metadata": {},
   "source": [
    "# (1)break\n",
    "#### break statements in loop stop further execution and control shift to the statement after for/ while loop\n",
    "#### Example="
   ]
  },
  {
   "cell_type": "code",
   "execution_count": 16,
   "id": "6a846995-bda3-4aa4-84f2-5ab37fb9e4b7",
   "metadata": {},
   "outputs": [
    {
     "name": "stdout",
     "output_type": "stream",
     "text": [
      "1\n",
      "2\n",
      "3\n",
      "4\n"
     ]
    }
   ],
   "source": [
    "n=1\n",
    "while n<=10:\n",
    "    \n",
    "    if n==5:\n",
    "        break\n",
    "    print(n)\n",
    "    n=n+1"
   ]
  },
  {
   "cell_type": "code",
   "execution_count": 17,
   "id": "9ee4b094-d787-4618-8349-0680094a9d15",
   "metadata": {},
   "outputs": [
    {
     "name": "stdout",
     "output_type": "stream",
     "text": [
      "1\n",
      "2\n",
      "3\n",
      "4\n",
      "5\n"
     ]
    }
   ],
   "source": [
    "n=1\n",
    "while n<=10:\n",
    "    print(n)\n",
    "    if n==5:\n",
    "        break\n",
    "   \n",
    "    n=n+1"
   ]
  },
  {
   "cell_type": "markdown",
   "id": "c6743df5-45f9-49f1-9b52-cd8600f0a75f",
   "metadata": {},
   "source": [
    "## (2)continue\n",
    "#### when control reaches continue statement, it skip the statements after 'continue ' and shift the control to further iteration\n",
    "### Exammple="
   ]
  },
  {
   "cell_type": "code",
   "execution_count": 8,
   "id": "38bf0267-f343-40fd-ae17-2f068486a5fd",
   "metadata": {},
   "outputs": [
    {
     "name": "stdout",
     "output_type": "stream",
     "text": [
      "1\n",
      "3\n",
      "5\n",
      "7\n",
      "9\n"
     ]
    }
   ],
   "source": [
    "for i in range(10):\n",
    "    if i%2==0:\n",
    "        continue\n",
    "    print(i)"
   ]
  },
  {
   "cell_type": "markdown",
   "id": "e62479d4-a86f-42b9-9899-67c5f941a376",
   "metadata": {},
   "source": [
    "# (3)Pass\n",
    "#### uesd to implement stubs \n",
    "#### used when we dont know what goes in it\n",
    "#### null statement\n",
    "#### interpreter does not ignore it but it perform non-opration\n",
    "#### used to fill indent space"
   ]
  },
  {
   "cell_type": "code",
   "execution_count": 14,
   "id": "a10acffd-0bed-4670-a46e-56f37bf68407",
   "metadata": {},
   "outputs": [
    {
     "name": "stdin",
     "output_type": "stream",
     "text": [
      "enter a number to check whether it is +ve/=ve= 0\n"
     ]
    }
   ],
   "source": [
    "i=int(input('enter a number to check whether it is +ve/=ve='))\n",
    "while i<10:\n",
    "    if i==0:\n",
    "        pass\n",
    "    i+=1\n"
   ]
  }
 ],
 "metadata": {
  "kernelspec": {
   "display_name": "Python 3 (ipykernel)",
   "language": "python",
   "name": "python3"
  },
  "language_info": {
   "codemirror_mode": {
    "name": "ipython",
    "version": 3
   },
   "file_extension": ".py",
   "mimetype": "text/x-python",
   "name": "python",
   "nbconvert_exporter": "python",
   "pygments_lexer": "ipython3",
   "version": "3.11.7"
  }
 },
 "nbformat": 4,
 "nbformat_minor": 5
}
